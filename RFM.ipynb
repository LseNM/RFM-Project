{
 "cells": [
  {
   "cell_type": "markdown",
   "metadata": {},
   "source": [
    "1. Describe the portrait of customers and provide insights into their behavior."
   ]
  },
  {
   "cell_type": "code",
   "execution_count": 1,
   "metadata": {},
   "outputs": [],
   "source": [
    "import pandas as pd\n",
    "import os\n",
    "import sqldf\n",
    "import numpy as np\n",
    "import seaborn as sns\n",
    "import matplotlib.pyplot as plt"
   ]
  },
  {
   "cell_type": "code",
   "execution_count": 2,
   "metadata": {},
   "outputs": [],
   "source": [
    "df = pd.read_excel(\"D:\\Files\\Data Gen 8\\Predictive Analytics\\Homework\\Class 3 _ Pizzahut - RFM\\De bai\\Round 2 - Data set.xlsx\",sheet_name='Purchasing data')"
   ]
  },
  {
   "cell_type": "code",
   "execution_count": 3,
   "metadata": {},
   "outputs": [
    {
     "data": {
      "text/html": [
       "<div>\n",
       "<style scoped>\n",
       "    .dataframe tbody tr th:only-of-type {\n",
       "        vertical-align: middle;\n",
       "    }\n",
       "\n",
       "    .dataframe tbody tr th {\n",
       "        vertical-align: top;\n",
       "    }\n",
       "\n",
       "    .dataframe thead th {\n",
       "        text-align: right;\n",
       "    }\n",
       "</style>\n",
       "<table border=\"1\" class=\"dataframe\">\n",
       "  <thead>\n",
       "    <tr style=\"text-align: right;\">\n",
       "      <th></th>\n",
       "      <th>Unnamed: 0</th>\n",
       "      <th>BillID</th>\n",
       "      <th>Channel</th>\n",
       "      <th>OrderFrom</th>\n",
       "      <th>TransactionDate</th>\n",
       "      <th>SalesAmount</th>\n",
       "      <th>CustomerID</th>\n",
       "      <th>CustomerGender</th>\n",
       "      <th>VoucherStatus</th>\n",
       "      <th>Province</th>\n",
       "    </tr>\n",
       "  </thead>\n",
       "  <tbody>\n",
       "    <tr>\n",
       "      <th>0</th>\n",
       "      <td>33066</td>\n",
       "      <td>33066</td>\n",
       "      <td>Take Away</td>\n",
       "      <td>STORE</td>\n",
       "      <td>2021-10-16 00:00:00+00:00</td>\n",
       "      <td>185271</td>\n",
       "      <td>2174083</td>\n",
       "      <td>Unknown</td>\n",
       "      <td>No</td>\n",
       "      <td>Southern Provinces</td>\n",
       "    </tr>\n",
       "    <tr>\n",
       "      <th>1</th>\n",
       "      <td>983828</td>\n",
       "      <td>983828</td>\n",
       "      <td>Delivery</td>\n",
       "      <td>STORE</td>\n",
       "      <td>2022-12-10 00:00:00+00:00</td>\n",
       "      <td>262489</td>\n",
       "      <td>2174075</td>\n",
       "      <td>Unknown</td>\n",
       "      <td>No</td>\n",
       "      <td>Southern Provinces</td>\n",
       "    </tr>\n",
       "    <tr>\n",
       "      <th>2</th>\n",
       "      <td>817983</td>\n",
       "      <td>817983</td>\n",
       "      <td>Take Away</td>\n",
       "      <td>WEBSITE</td>\n",
       "      <td>2022-09-13 00:00:00+00:00</td>\n",
       "      <td>330512</td>\n",
       "      <td>2174072</td>\n",
       "      <td>Male</td>\n",
       "      <td>No</td>\n",
       "      <td>Southern Provinces</td>\n",
       "    </tr>\n",
       "    <tr>\n",
       "      <th>3</th>\n",
       "      <td>876194</td>\n",
       "      <td>876194</td>\n",
       "      <td>Take Away</td>\n",
       "      <td>WEBSITE</td>\n",
       "      <td>2022-10-13 00:00:00+00:00</td>\n",
       "      <td>285143</td>\n",
       "      <td>2174072</td>\n",
       "      <td>Male</td>\n",
       "      <td>No</td>\n",
       "      <td>Ho Chi Minh City</td>\n",
       "    </tr>\n",
       "    <tr>\n",
       "      <th>4</th>\n",
       "      <td>974818</td>\n",
       "      <td>974818</td>\n",
       "      <td>Delivery</td>\n",
       "      <td>APP</td>\n",
       "      <td>2022-12-04 00:00:00+00:00</td>\n",
       "      <td>337963</td>\n",
       "      <td>2174072</td>\n",
       "      <td>Male</td>\n",
       "      <td>No</td>\n",
       "      <td>Ho Chi Minh City</td>\n",
       "    </tr>\n",
       "    <tr>\n",
       "      <th>...</th>\n",
       "      <td>...</td>\n",
       "      <td>...</td>\n",
       "      <td>...</td>\n",
       "      <td>...</td>\n",
       "      <td>...</td>\n",
       "      <td>...</td>\n",
       "      <td>...</td>\n",
       "      <td>...</td>\n",
       "      <td>...</td>\n",
       "      <td>...</td>\n",
       "    </tr>\n",
       "    <tr>\n",
       "      <th>1048570</th>\n",
       "      <td>290337</td>\n",
       "      <td>290337</td>\n",
       "      <td>Take Away</td>\n",
       "      <td>STORE</td>\n",
       "      <td>2022-01-29 00:00:00+00:00</td>\n",
       "      <td>287492</td>\n",
       "      <td>18</td>\n",
       "      <td>Unknown</td>\n",
       "      <td>No</td>\n",
       "      <td>Hanoi</td>\n",
       "    </tr>\n",
       "    <tr>\n",
       "      <th>1048571</th>\n",
       "      <td>822087</td>\n",
       "      <td>822087</td>\n",
       "      <td>Delivery</td>\n",
       "      <td>WEBSITE</td>\n",
       "      <td>2022-09-16 00:00:00+00:00</td>\n",
       "      <td>286558</td>\n",
       "      <td>16</td>\n",
       "      <td>Unknown</td>\n",
       "      <td>No</td>\n",
       "      <td>Nothern Provinces</td>\n",
       "    </tr>\n",
       "    <tr>\n",
       "      <th>1048572</th>\n",
       "      <td>675515</td>\n",
       "      <td>675515</td>\n",
       "      <td>Delivery</td>\n",
       "      <td>CALL CENTER</td>\n",
       "      <td>2022-07-11 00:00:00+00:00</td>\n",
       "      <td>1098496</td>\n",
       "      <td>8</td>\n",
       "      <td>Unknown</td>\n",
       "      <td>No</td>\n",
       "      <td>Hanoi</td>\n",
       "    </tr>\n",
       "    <tr>\n",
       "      <th>1048573</th>\n",
       "      <td>383630</td>\n",
       "      <td>383630</td>\n",
       "      <td>Delivery</td>\n",
       "      <td>STORE</td>\n",
       "      <td>2022-03-07 00:00:00+00:00</td>\n",
       "      <td>105503</td>\n",
       "      <td>1</td>\n",
       "      <td>Unknown</td>\n",
       "      <td>No</td>\n",
       "      <td>Nothern Provinces</td>\n",
       "    </tr>\n",
       "    <tr>\n",
       "      <th>1048574</th>\n",
       "      <td>194111</td>\n",
       "      <td>194111</td>\n",
       "      <td>Delivery</td>\n",
       "      <td>STORE</td>\n",
       "      <td>2021-12-24 00:00:00+00:00</td>\n",
       "      <td>411663</td>\n",
       "      <td>0</td>\n",
       "      <td>Unknown</td>\n",
       "      <td>No</td>\n",
       "      <td>Ho Chi Minh City</td>\n",
       "    </tr>\n",
       "  </tbody>\n",
       "</table>\n",
       "<p>1048575 rows × 10 columns</p>\n",
       "</div>"
      ],
      "text/plain": [
       "         Unnamed: 0  BillID    Channel    OrderFrom  \\\n",
       "0             33066   33066  Take Away        STORE   \n",
       "1            983828  983828   Delivery        STORE   \n",
       "2            817983  817983  Take Away      WEBSITE   \n",
       "3            876194  876194  Take Away      WEBSITE   \n",
       "4            974818  974818   Delivery          APP   \n",
       "...             ...     ...        ...          ...   \n",
       "1048570      290337  290337  Take Away        STORE   \n",
       "1048571      822087  822087   Delivery      WEBSITE   \n",
       "1048572      675515  675515   Delivery  CALL CENTER   \n",
       "1048573      383630  383630   Delivery        STORE   \n",
       "1048574      194111  194111   Delivery        STORE   \n",
       "\n",
       "                   TransactionDate  SalesAmount  CustomerID CustomerGender  \\\n",
       "0        2021-10-16 00:00:00+00:00       185271     2174083        Unknown   \n",
       "1        2022-12-10 00:00:00+00:00       262489     2174075        Unknown   \n",
       "2        2022-09-13 00:00:00+00:00       330512     2174072           Male   \n",
       "3        2022-10-13 00:00:00+00:00       285143     2174072           Male   \n",
       "4        2022-12-04 00:00:00+00:00       337963     2174072           Male   \n",
       "...                            ...          ...         ...            ...   \n",
       "1048570  2022-01-29 00:00:00+00:00       287492          18        Unknown   \n",
       "1048571  2022-09-16 00:00:00+00:00       286558          16        Unknown   \n",
       "1048572  2022-07-11 00:00:00+00:00      1098496           8        Unknown   \n",
       "1048573  2022-03-07 00:00:00+00:00       105503           1        Unknown   \n",
       "1048574  2021-12-24 00:00:00+00:00       411663           0        Unknown   \n",
       "\n",
       "        VoucherStatus            Province  \n",
       "0                  No  Southern Provinces  \n",
       "1                  No  Southern Provinces  \n",
       "2                  No  Southern Provinces  \n",
       "3                  No    Ho Chi Minh City  \n",
       "4                  No    Ho Chi Minh City  \n",
       "...               ...                 ...  \n",
       "1048570            No               Hanoi  \n",
       "1048571            No   Nothern Provinces  \n",
       "1048572            No               Hanoi  \n",
       "1048573            No   Nothern Provinces  \n",
       "1048574            No    Ho Chi Minh City  \n",
       "\n",
       "[1048575 rows x 10 columns]"
      ]
     },
     "execution_count": 3,
     "metadata": {},
     "output_type": "execute_result"
    }
   ],
   "source": [
    "df"
   ]
  },
  {
   "cell_type": "markdown",
   "metadata": {},
   "source": [
    "a. Who are the people buying products?"
   ]
  },
  {
   "cell_type": "code",
   "execution_count": 4,
   "metadata": {},
   "outputs": [],
   "source": [
    "count_by_gender = df.groupby('CustomerGender')['CustomerID'].nunique()"
   ]
  },
  {
   "cell_type": "code",
   "execution_count": 5,
   "metadata": {},
   "outputs": [
    {
     "data": {
      "text/plain": [
       "CustomerGender\n",
       "Female      55346\n",
       "Male       104087\n",
       "Unknown    424209\n",
       "Name: CustomerID, dtype: int64"
      ]
     },
     "execution_count": 5,
     "metadata": {},
     "output_type": "execute_result"
    }
   ],
   "source": [
    "count_by_gender"
   ]
  },
  {
   "cell_type": "markdown",
   "metadata": {},
   "source": [
    "b. Which location do they live in?"
   ]
  },
  {
   "cell_type": "code",
   "execution_count": 6,
   "metadata": {},
   "outputs": [],
   "source": [
    "Location= df.groupby('Province')['CustomerID'].nunique()"
   ]
  },
  {
   "cell_type": "code",
   "execution_count": 7,
   "metadata": {},
   "outputs": [
    {
     "data": {
      "text/plain": [
       "Province\n",
       "Hanoi                 174189\n",
       "Ho Chi Minh City      167449\n",
       "Nothern Provinces     104453\n",
       "Southern Provinces    143999\n",
       "Name: CustomerID, dtype: int64"
      ]
     },
     "execution_count": 7,
     "metadata": {},
     "output_type": "execute_result"
    }
   ],
   "source": [
    "Location"
   ]
  },
  {
   "cell_type": "markdown",
   "metadata": {},
   "source": [
    "c. Which channel are they purchasing from?\n"
   ]
  },
  {
   "cell_type": "code",
   "execution_count": 8,
   "metadata": {},
   "outputs": [],
   "source": [
    "Purchase_Channel= df.groupby('Channel')['CustomerID'].nunique()"
   ]
  },
  {
   "cell_type": "code",
   "execution_count": 9,
   "metadata": {},
   "outputs": [
    {
     "data": {
      "text/plain": [
       "Channel\n",
       "Delivery     279929\n",
       "Dine In       13663\n",
       "Take Away    350021\n",
       "Name: CustomerID, dtype: int64"
      ]
     },
     "execution_count": 9,
     "metadata": {},
     "output_type": "execute_result"
    }
   ],
   "source": [
    "Purchase_Channel"
   ]
  },
  {
   "cell_type": "markdown",
   "metadata": {},
   "source": [
    "2. Using the RFM model, segment customers into different groups."
   ]
  },
  {
   "cell_type": "code",
   "execution_count": 10,
   "metadata": {},
   "outputs": [
    {
     "data": {
      "text/html": [
       "<div>\n",
       "<style scoped>\n",
       "    .dataframe tbody tr th:only-of-type {\n",
       "        vertical-align: middle;\n",
       "    }\n",
       "\n",
       "    .dataframe tbody tr th {\n",
       "        vertical-align: top;\n",
       "    }\n",
       "\n",
       "    .dataframe thead th {\n",
       "        text-align: right;\n",
       "    }\n",
       "</style>\n",
       "<table border=\"1\" class=\"dataframe\">\n",
       "  <thead>\n",
       "    <tr style=\"text-align: right;\">\n",
       "      <th></th>\n",
       "      <th>Unnamed: 0</th>\n",
       "      <th>BillID</th>\n",
       "      <th>Channel</th>\n",
       "      <th>OrderFrom</th>\n",
       "      <th>TransactionDate</th>\n",
       "      <th>SalesAmount</th>\n",
       "      <th>CustomerID</th>\n",
       "      <th>CustomerGender</th>\n",
       "      <th>VoucherStatus</th>\n",
       "      <th>Province</th>\n",
       "    </tr>\n",
       "  </thead>\n",
       "  <tbody>\n",
       "    <tr>\n",
       "      <th>0</th>\n",
       "      <td>33066</td>\n",
       "      <td>33066</td>\n",
       "      <td>Take Away</td>\n",
       "      <td>STORE</td>\n",
       "      <td>2021-10-16 00:00:00+00:00</td>\n",
       "      <td>185271</td>\n",
       "      <td>2174083</td>\n",
       "      <td>Unknown</td>\n",
       "      <td>No</td>\n",
       "      <td>Southern Provinces</td>\n",
       "    </tr>\n",
       "    <tr>\n",
       "      <th>1</th>\n",
       "      <td>983828</td>\n",
       "      <td>983828</td>\n",
       "      <td>Delivery</td>\n",
       "      <td>STORE</td>\n",
       "      <td>2022-12-10 00:00:00+00:00</td>\n",
       "      <td>262489</td>\n",
       "      <td>2174075</td>\n",
       "      <td>Unknown</td>\n",
       "      <td>No</td>\n",
       "      <td>Southern Provinces</td>\n",
       "    </tr>\n",
       "    <tr>\n",
       "      <th>2</th>\n",
       "      <td>817983</td>\n",
       "      <td>817983</td>\n",
       "      <td>Take Away</td>\n",
       "      <td>WEBSITE</td>\n",
       "      <td>2022-09-13 00:00:00+00:00</td>\n",
       "      <td>330512</td>\n",
       "      <td>2174072</td>\n",
       "      <td>Male</td>\n",
       "      <td>No</td>\n",
       "      <td>Southern Provinces</td>\n",
       "    </tr>\n",
       "    <tr>\n",
       "      <th>3</th>\n",
       "      <td>876194</td>\n",
       "      <td>876194</td>\n",
       "      <td>Take Away</td>\n",
       "      <td>WEBSITE</td>\n",
       "      <td>2022-10-13 00:00:00+00:00</td>\n",
       "      <td>285143</td>\n",
       "      <td>2174072</td>\n",
       "      <td>Male</td>\n",
       "      <td>No</td>\n",
       "      <td>Ho Chi Minh City</td>\n",
       "    </tr>\n",
       "    <tr>\n",
       "      <th>4</th>\n",
       "      <td>974818</td>\n",
       "      <td>974818</td>\n",
       "      <td>Delivery</td>\n",
       "      <td>APP</td>\n",
       "      <td>2022-12-04 00:00:00+00:00</td>\n",
       "      <td>337963</td>\n",
       "      <td>2174072</td>\n",
       "      <td>Male</td>\n",
       "      <td>No</td>\n",
       "      <td>Ho Chi Minh City</td>\n",
       "    </tr>\n",
       "    <tr>\n",
       "      <th>...</th>\n",
       "      <td>...</td>\n",
       "      <td>...</td>\n",
       "      <td>...</td>\n",
       "      <td>...</td>\n",
       "      <td>...</td>\n",
       "      <td>...</td>\n",
       "      <td>...</td>\n",
       "      <td>...</td>\n",
       "      <td>...</td>\n",
       "      <td>...</td>\n",
       "    </tr>\n",
       "    <tr>\n",
       "      <th>1048570</th>\n",
       "      <td>290337</td>\n",
       "      <td>290337</td>\n",
       "      <td>Take Away</td>\n",
       "      <td>STORE</td>\n",
       "      <td>2022-01-29 00:00:00+00:00</td>\n",
       "      <td>287492</td>\n",
       "      <td>18</td>\n",
       "      <td>Unknown</td>\n",
       "      <td>No</td>\n",
       "      <td>Hanoi</td>\n",
       "    </tr>\n",
       "    <tr>\n",
       "      <th>1048571</th>\n",
       "      <td>822087</td>\n",
       "      <td>822087</td>\n",
       "      <td>Delivery</td>\n",
       "      <td>WEBSITE</td>\n",
       "      <td>2022-09-16 00:00:00+00:00</td>\n",
       "      <td>286558</td>\n",
       "      <td>16</td>\n",
       "      <td>Unknown</td>\n",
       "      <td>No</td>\n",
       "      <td>Nothern Provinces</td>\n",
       "    </tr>\n",
       "    <tr>\n",
       "      <th>1048572</th>\n",
       "      <td>675515</td>\n",
       "      <td>675515</td>\n",
       "      <td>Delivery</td>\n",
       "      <td>CALL CENTER</td>\n",
       "      <td>2022-07-11 00:00:00+00:00</td>\n",
       "      <td>1098496</td>\n",
       "      <td>8</td>\n",
       "      <td>Unknown</td>\n",
       "      <td>No</td>\n",
       "      <td>Hanoi</td>\n",
       "    </tr>\n",
       "    <tr>\n",
       "      <th>1048573</th>\n",
       "      <td>383630</td>\n",
       "      <td>383630</td>\n",
       "      <td>Delivery</td>\n",
       "      <td>STORE</td>\n",
       "      <td>2022-03-07 00:00:00+00:00</td>\n",
       "      <td>105503</td>\n",
       "      <td>1</td>\n",
       "      <td>Unknown</td>\n",
       "      <td>No</td>\n",
       "      <td>Nothern Provinces</td>\n",
       "    </tr>\n",
       "    <tr>\n",
       "      <th>1048574</th>\n",
       "      <td>194111</td>\n",
       "      <td>194111</td>\n",
       "      <td>Delivery</td>\n",
       "      <td>STORE</td>\n",
       "      <td>2021-12-24 00:00:00+00:00</td>\n",
       "      <td>411663</td>\n",
       "      <td>0</td>\n",
       "      <td>Unknown</td>\n",
       "      <td>No</td>\n",
       "      <td>Ho Chi Minh City</td>\n",
       "    </tr>\n",
       "  </tbody>\n",
       "</table>\n",
       "<p>1048575 rows × 10 columns</p>\n",
       "</div>"
      ],
      "text/plain": [
       "         Unnamed: 0  BillID    Channel    OrderFrom  \\\n",
       "0             33066   33066  Take Away        STORE   \n",
       "1            983828  983828   Delivery        STORE   \n",
       "2            817983  817983  Take Away      WEBSITE   \n",
       "3            876194  876194  Take Away      WEBSITE   \n",
       "4            974818  974818   Delivery          APP   \n",
       "...             ...     ...        ...          ...   \n",
       "1048570      290337  290337  Take Away        STORE   \n",
       "1048571      822087  822087   Delivery      WEBSITE   \n",
       "1048572      675515  675515   Delivery  CALL CENTER   \n",
       "1048573      383630  383630   Delivery        STORE   \n",
       "1048574      194111  194111   Delivery        STORE   \n",
       "\n",
       "                   TransactionDate  SalesAmount  CustomerID CustomerGender  \\\n",
       "0        2021-10-16 00:00:00+00:00       185271     2174083        Unknown   \n",
       "1        2022-12-10 00:00:00+00:00       262489     2174075        Unknown   \n",
       "2        2022-09-13 00:00:00+00:00       330512     2174072           Male   \n",
       "3        2022-10-13 00:00:00+00:00       285143     2174072           Male   \n",
       "4        2022-12-04 00:00:00+00:00       337963     2174072           Male   \n",
       "...                            ...          ...         ...            ...   \n",
       "1048570  2022-01-29 00:00:00+00:00       287492          18        Unknown   \n",
       "1048571  2022-09-16 00:00:00+00:00       286558          16        Unknown   \n",
       "1048572  2022-07-11 00:00:00+00:00      1098496           8        Unknown   \n",
       "1048573  2022-03-07 00:00:00+00:00       105503           1        Unknown   \n",
       "1048574  2021-12-24 00:00:00+00:00       411663           0        Unknown   \n",
       "\n",
       "        VoucherStatus            Province  \n",
       "0                  No  Southern Provinces  \n",
       "1                  No  Southern Provinces  \n",
       "2                  No  Southern Provinces  \n",
       "3                  No    Ho Chi Minh City  \n",
       "4                  No    Ho Chi Minh City  \n",
       "...               ...                 ...  \n",
       "1048570            No               Hanoi  \n",
       "1048571            No   Nothern Provinces  \n",
       "1048572            No               Hanoi  \n",
       "1048573            No   Nothern Provinces  \n",
       "1048574            No    Ho Chi Minh City  \n",
       "\n",
       "[1048575 rows x 10 columns]"
      ]
     },
     "execution_count": 10,
     "metadata": {},
     "output_type": "execute_result"
    }
   ],
   "source": [
    "df"
   ]
  },
  {
   "cell_type": "code",
   "execution_count": 11,
   "metadata": {},
   "outputs": [
    {
     "data": {
      "text/plain": [
       "Unnamed: 0          int64\n",
       "BillID              int64\n",
       "Channel            object\n",
       "OrderFrom          object\n",
       "TransactionDate    object\n",
       "SalesAmount         int64\n",
       "CustomerID          int64\n",
       "CustomerGender     object\n",
       "VoucherStatus      object\n",
       "Province           object\n",
       "dtype: object"
      ]
     },
     "execution_count": 11,
     "metadata": {},
     "output_type": "execute_result"
    }
   ],
   "source": [
    "df.dtypes"
   ]
  },
  {
   "cell_type": "markdown",
   "metadata": {},
   "source": [
    "Calculate Recency(R)"
   ]
  },
  {
   "cell_type": "code",
   "execution_count": 12,
   "metadata": {},
   "outputs": [],
   "source": [
    "import datetime"
   ]
  },
  {
   "cell_type": "code",
   "execution_count": 13,
   "metadata": {},
   "outputs": [
    {
     "name": "stdout",
     "output_type": "stream",
     "text": [
      "        CustomerID  Recency\n",
      "0                0      382\n",
      "1                1      309\n",
      "2                8      183\n",
      "3               16      116\n",
      "4               18      346\n",
      "...            ...      ...\n",
      "583637     2174065      255\n",
      "583638     2174066        7\n",
      "583639     2174072       37\n",
      "583640     2174075       31\n",
      "583641     2174083      451\n",
      "\n",
      "[583642 rows x 2 columns]\n"
     ]
    }
   ],
   "source": [
    "# Convert TransactionDate to datetime\n",
    "df['TransactionDate'] = pd.to_datetime(df['TransactionDate'])\n",
    "\n",
    "# Calculate Recency (days since the most recent transaction)\n",
    "current_date = max(df['TransactionDate']) + datetime.timedelta(days=1)\n",
    "recency_df = df.groupby(['CustomerID']).agg(\n",
    "    {'TransactionDate': lambda x: (current_date - x.max()).days}\n",
    ")\n",
    "\n",
    "# Reset index to make 'CustomerID' a separate column\n",
    "recency_df = recency_df.reset_index()\n",
    "\n",
    "# Rename the column\n",
    "recency_df.rename(columns={'TransactionDate': 'Recency'}, inplace=True)\n",
    "\n",
    "print(recency_df)\n"
   ]
  },
  {
   "cell_type": "markdown",
   "metadata": {},
   "source": [
    "Calculate Frequency(F)"
   ]
  },
  {
   "cell_type": "code",
   "execution_count": 14,
   "metadata": {},
   "outputs": [
    {
     "name": "stdout",
     "output_type": "stream",
     "text": [
      "        CustomerID  Frequency\n",
      "0                0          1\n",
      "1                1          1\n",
      "2                8          1\n",
      "3               16          1\n",
      "4               18          1\n",
      "...            ...        ...\n",
      "583637     2174065          1\n",
      "583638     2174066          1\n",
      "583639     2174072          3\n",
      "583640     2174075          1\n",
      "583641     2174083          1\n",
      "\n",
      "[583642 rows x 2 columns]\n"
     ]
    }
   ],
   "source": [
    "# Tính Frequency (số lần giao dịch) cho mỗi khách hàng\n",
    "frequency_df = df.groupby('CustomerID')['BillID'].count().reset_index()\n",
    "frequency_df.rename(columns={'BillID': 'Frequency'}, inplace=True)\n",
    "print(frequency_df)"
   ]
  },
  {
   "cell_type": "markdown",
   "metadata": {},
   "source": [
    "Calculate Monetary(M)"
   ]
  },
  {
   "cell_type": "code",
   "execution_count": 15,
   "metadata": {},
   "outputs": [],
   "source": [
    "# Tính Monetary (tổng số tiền đã chi tiêu) cho mỗi khách hàng\n",
    "monetary_df = df.groupby('CustomerID')['SalesAmount'].sum().reset_index()\n",
    "monetary_df.rename(columns={'SalesAmount': 'Monetary'}, inplace=True)"
   ]
  },
  {
   "cell_type": "code",
   "execution_count": 16,
   "metadata": {},
   "outputs": [],
   "source": [
    "# Kết hợp các giá trị R, F và M để tính điểm RFM\n",
    "rfm_df = pd.merge(recency_df, frequency_df, on='CustomerID')\n",
    "rfm_df = pd.merge(rfm_df, monetary_df, on='CustomerID')"
   ]
  },
  {
   "cell_type": "code",
   "execution_count": 17,
   "metadata": {},
   "outputs": [
    {
     "name": "stdout",
     "output_type": "stream",
     "text": [
      "        CustomerID  Recency  Frequency  Monetary\n",
      "0                0      382          1    411663\n",
      "1                1      309          1    105503\n",
      "2                8      183          1   1098496\n",
      "3               16      116          1    286558\n",
      "4               18      346          1    287492\n",
      "...            ...      ...        ...       ...\n",
      "583637     2174065      255          1    138943\n",
      "583638     2174066        7          1    143685\n",
      "583639     2174072       37          3    953618\n",
      "583640     2174075       31          1    262489\n",
      "583641     2174083      451          1    185271\n",
      "\n",
      "[583642 rows x 4 columns]\n"
     ]
    }
   ],
   "source": [
    "print(rfm_df)"
   ]
  },
  {
   "cell_type": "code",
   "execution_count": 18,
   "metadata": {},
   "outputs": [
    {
     "name": "stdout",
     "output_type": "stream",
     "text": [
      "        CustomerID  Recency  Frequency  Monetary  R\n",
      "0                0      382          1    411663  1\n",
      "1                1      309          1    105503  2\n",
      "2                8      183          1   1098496  3\n",
      "3               16      116          1    286558  3\n",
      "4               18      346          1    287492  1\n",
      "...            ...      ...        ...       ... ..\n",
      "583637     2174065      255          1    138943  2\n",
      "583638     2174066        7          1    143685  4\n",
      "583639     2174072       37          3    953618  4\n",
      "583640     2174075       31          1    262489  4\n",
      "583641     2174083      451          1    185271  1\n",
      "\n",
      "[583642 rows x 5 columns]\n"
     ]
    }
   ],
   "source": [
    "r_labels = range(4, 0,-1)\n",
    "r_quartiles = pd.qcut(rfm_df['Recency'], 4, labels = r_labels)\n",
    "rfm_df = rfm_df.assign(R = r_quartiles.values)\n",
    "print(rfm_df)"
   ]
  },
  {
   "cell_type": "code",
   "execution_count": 19,
   "metadata": {},
   "outputs": [
    {
     "name": "stdout",
     "output_type": "stream",
     "text": [
      "        CustomerID  Recency  Frequency      Monetary  R  F  M\n",
      "0                0      382   1.000001  4.116630e+05  1  2  3\n",
      "1                1      309   1.000000  1.055030e+05  2  1  1\n",
      "2                8      183   1.000000  1.098496e+06  3  1  4\n",
      "3               16      116   1.000001  2.865580e+05  3  3  2\n",
      "4               18      346   1.000000  2.874920e+05  1  1  2\n",
      "...            ...      ...        ...           ... .. .. ..\n",
      "583637     2174065      255   1.000001  1.389430e+05  2  2  1\n",
      "583638     2174066        7   1.000001  1.436850e+05  4  2  1\n",
      "583639     2174072       37   3.000000  9.536180e+05  4  4  4\n",
      "583640     2174075       31   1.000001  2.624890e+05  4  3  2\n",
      "583641     2174083      451   1.000001  1.852710e+05  1  2  1\n",
      "\n",
      "[583642 rows x 7 columns]\n"
     ]
    }
   ],
   "source": [
    "f_labels = range(1,5)\n",
    "m_labels = range(1,5)\n",
    "\n",
    "# Add a small jitter to the data\n",
    "rfm_df['Frequency'] += np.random.rand(len(rfm_df)) * 1e-6\n",
    "rfm_df['Monetary'] += np.random.rand(len(rfm_df)) * 1e-6\n",
    "\n",
    "# Calculate quartiles\n",
    "f_quartiles = pd.qcut(rfm_df['Frequency'], 4, labels=f_labels, duplicates='drop')\n",
    "m_quartiles = pd.qcut(rfm_df['Monetary'], 4, labels=m_labels, duplicates='drop')\n",
    "\n",
    "# Assign quartiles to dataframe\n",
    "rfm_df = rfm_df.assign(F=f_quartiles.values)\n",
    "rfm_df = rfm_df.assign(M=m_quartiles.values)\n",
    "\n",
    "print(rfm_df)\n"
   ]
  },
  {
   "cell_type": "code",
   "execution_count": 21,
   "metadata": {},
   "outputs": [
    {
     "name": "stdout",
     "output_type": "stream",
     "text": [
      "        CustomerID  Recency  Frequency      Monetary  R  F  M RFM_Segment\n",
      "0                0      382   1.000001  4.116630e+05  1  2  3         123\n",
      "1                1      309   1.000000  1.055030e+05  2  1  1         211\n",
      "2                8      183   1.000000  1.098496e+06  3  1  4         314\n",
      "3               16      116   1.000001  2.865580e+05  3  3  2         332\n",
      "4               18      346   1.000000  2.874920e+05  1  1  2         112\n",
      "...            ...      ...        ...           ... .. .. ..         ...\n",
      "583637     2174065      255   1.000001  1.389430e+05  2  2  1         221\n",
      "583638     2174066        7   1.000001  1.436850e+05  4  2  1         421\n",
      "583639     2174072       37   3.000000  9.536180e+05  4  4  4         444\n",
      "583640     2174075       31   1.000001  2.624890e+05  4  3  2         432\n",
      "583641     2174083      451   1.000001  1.852710e+05  1  2  1         121\n",
      "\n",
      "[583642 rows x 8 columns]\n"
     ]
    }
   ],
   "source": [
    "# Define function to join R, F, and M values\n",
    "def join_rfm(x):\n",
    "    return str(x['R']) + str(x['F']) + str(x['M'])\n",
    "\n",
    "# Apply function to create RFM_Segment column\n",
    "rfm_df['RFM_Segment'] = rfm_df.apply(join_rfm, axis=1)\n",
    "\n",
    "# Print DataFrame\n",
    "print(rfm_df)\n"
   ]
  },
  {
   "cell_type": "code",
   "execution_count": 22,
   "metadata": {},
   "outputs": [
    {
     "data": {
      "text/html": [
       "<div>\n",
       "<style scoped>\n",
       "    .dataframe tbody tr th:only-of-type {\n",
       "        vertical-align: middle;\n",
       "    }\n",
       "\n",
       "    .dataframe tbody tr th {\n",
       "        vertical-align: top;\n",
       "    }\n",
       "\n",
       "    .dataframe thead th {\n",
       "        text-align: right;\n",
       "    }\n",
       "</style>\n",
       "<table border=\"1\" class=\"dataframe\">\n",
       "  <thead>\n",
       "    <tr style=\"text-align: right;\">\n",
       "      <th></th>\n",
       "      <th>CustomerID</th>\n",
       "      <th>Recency</th>\n",
       "      <th>Frequency</th>\n",
       "      <th>Monetary</th>\n",
       "      <th>R</th>\n",
       "      <th>F</th>\n",
       "      <th>M</th>\n",
       "      <th>RFM_Segment</th>\n",
       "    </tr>\n",
       "  </thead>\n",
       "  <tbody>\n",
       "    <tr>\n",
       "      <th>0</th>\n",
       "      <td>0</td>\n",
       "      <td>382</td>\n",
       "      <td>1.000001</td>\n",
       "      <td>4.116630e+05</td>\n",
       "      <td>1</td>\n",
       "      <td>2</td>\n",
       "      <td>3</td>\n",
       "      <td>123</td>\n",
       "    </tr>\n",
       "    <tr>\n",
       "      <th>1</th>\n",
       "      <td>1</td>\n",
       "      <td>309</td>\n",
       "      <td>1.000000</td>\n",
       "      <td>1.055030e+05</td>\n",
       "      <td>2</td>\n",
       "      <td>1</td>\n",
       "      <td>1</td>\n",
       "      <td>211</td>\n",
       "    </tr>\n",
       "    <tr>\n",
       "      <th>2</th>\n",
       "      <td>8</td>\n",
       "      <td>183</td>\n",
       "      <td>1.000000</td>\n",
       "      <td>1.098496e+06</td>\n",
       "      <td>3</td>\n",
       "      <td>1</td>\n",
       "      <td>4</td>\n",
       "      <td>314</td>\n",
       "    </tr>\n",
       "    <tr>\n",
       "      <th>3</th>\n",
       "      <td>16</td>\n",
       "      <td>116</td>\n",
       "      <td>1.000001</td>\n",
       "      <td>2.865580e+05</td>\n",
       "      <td>3</td>\n",
       "      <td>3</td>\n",
       "      <td>2</td>\n",
       "      <td>332</td>\n",
       "    </tr>\n",
       "    <tr>\n",
       "      <th>4</th>\n",
       "      <td>18</td>\n",
       "      <td>346</td>\n",
       "      <td>1.000000</td>\n",
       "      <td>2.874920e+05</td>\n",
       "      <td>1</td>\n",
       "      <td>1</td>\n",
       "      <td>2</td>\n",
       "      <td>112</td>\n",
       "    </tr>\n",
       "    <tr>\n",
       "      <th>...</th>\n",
       "      <td>...</td>\n",
       "      <td>...</td>\n",
       "      <td>...</td>\n",
       "      <td>...</td>\n",
       "      <td>...</td>\n",
       "      <td>...</td>\n",
       "      <td>...</td>\n",
       "      <td>...</td>\n",
       "    </tr>\n",
       "    <tr>\n",
       "      <th>583637</th>\n",
       "      <td>2174065</td>\n",
       "      <td>255</td>\n",
       "      <td>1.000001</td>\n",
       "      <td>1.389430e+05</td>\n",
       "      <td>2</td>\n",
       "      <td>2</td>\n",
       "      <td>1</td>\n",
       "      <td>221</td>\n",
       "    </tr>\n",
       "    <tr>\n",
       "      <th>583638</th>\n",
       "      <td>2174066</td>\n",
       "      <td>7</td>\n",
       "      <td>1.000001</td>\n",
       "      <td>1.436850e+05</td>\n",
       "      <td>4</td>\n",
       "      <td>2</td>\n",
       "      <td>1</td>\n",
       "      <td>421</td>\n",
       "    </tr>\n",
       "    <tr>\n",
       "      <th>583639</th>\n",
       "      <td>2174072</td>\n",
       "      <td>37</td>\n",
       "      <td>3.000000</td>\n",
       "      <td>9.536180e+05</td>\n",
       "      <td>4</td>\n",
       "      <td>4</td>\n",
       "      <td>4</td>\n",
       "      <td>444</td>\n",
       "    </tr>\n",
       "    <tr>\n",
       "      <th>583640</th>\n",
       "      <td>2174075</td>\n",
       "      <td>31</td>\n",
       "      <td>1.000001</td>\n",
       "      <td>2.624890e+05</td>\n",
       "      <td>4</td>\n",
       "      <td>3</td>\n",
       "      <td>2</td>\n",
       "      <td>432</td>\n",
       "    </tr>\n",
       "    <tr>\n",
       "      <th>583641</th>\n",
       "      <td>2174083</td>\n",
       "      <td>451</td>\n",
       "      <td>1.000001</td>\n",
       "      <td>1.852710e+05</td>\n",
       "      <td>1</td>\n",
       "      <td>2</td>\n",
       "      <td>1</td>\n",
       "      <td>121</td>\n",
       "    </tr>\n",
       "  </tbody>\n",
       "</table>\n",
       "<p>583642 rows × 8 columns</p>\n",
       "</div>"
      ],
      "text/plain": [
       "        CustomerID  Recency  Frequency      Monetary  R  F  M RFM_Segment\n",
       "0                0      382   1.000001  4.116630e+05  1  2  3         123\n",
       "1                1      309   1.000000  1.055030e+05  2  1  1         211\n",
       "2                8      183   1.000000  1.098496e+06  3  1  4         314\n",
       "3               16      116   1.000001  2.865580e+05  3  3  2         332\n",
       "4               18      346   1.000000  2.874920e+05  1  1  2         112\n",
       "...            ...      ...        ...           ... .. .. ..         ...\n",
       "583637     2174065      255   1.000001  1.389430e+05  2  2  1         221\n",
       "583638     2174066        7   1.000001  1.436850e+05  4  2  1         421\n",
       "583639     2174072       37   3.000000  9.536180e+05  4  4  4         444\n",
       "583640     2174075       31   1.000001  2.624890e+05  4  3  2         432\n",
       "583641     2174083      451   1.000001  1.852710e+05  1  2  1         121\n",
       "\n",
       "[583642 rows x 8 columns]"
      ]
     },
     "execution_count": 22,
     "metadata": {},
     "output_type": "execute_result"
    }
   ],
   "source": [
    "rfm_df"
   ]
  },
  {
   "cell_type": "code",
   "execution_count": 23,
   "metadata": {},
   "outputs": [
    {
     "data": {
      "text/plain": [
       "count    583642.000000\n",
       "mean        220.832868\n",
       "std         135.498886\n",
       "min           1.000000\n",
       "25%         102.000000\n",
       "50%         218.000000\n",
       "75%         337.000000\n",
       "max         466.000000\n",
       "Name: Recency, dtype: float64"
      ]
     },
     "execution_count": 23,
     "metadata": {},
     "output_type": "execute_result"
    }
   ],
   "source": [
    "rfm_df['Recency'].describe()"
   ]
  },
  {
   "cell_type": "code",
   "execution_count": 24,
   "metadata": {},
   "outputs": [
    {
     "data": {
      "text/plain": [
       "count    583642.000000\n",
       "mean          1.796607\n",
       "std           2.269033\n",
       "min           1.000000\n",
       "25%           1.000000\n",
       "50%           1.000001\n",
       "75%           2.000000\n",
       "max         238.000000\n",
       "Name: Frequency, dtype: float64"
      ]
     },
     "execution_count": 24,
     "metadata": {},
     "output_type": "execute_result"
    }
   ],
   "source": [
    "rfm_df['Frequency'].describe()"
   ]
  },
  {
   "cell_type": "code",
   "execution_count": 25,
   "metadata": {},
   "outputs": [
    {
     "data": {
      "text/plain": [
       "count    5.836420e+05\n",
       "mean     5.477354e+05\n",
       "std      8.803920e+05\n",
       "min      7.148000e+03\n",
       "25%      2.012890e+05\n",
       "50%      3.118160e+05\n",
       "75%      5.674813e+05\n",
       "max      1.337745e+08\n",
       "Name: Monetary, dtype: float64"
      ]
     },
     "execution_count": 25,
     "metadata": {},
     "output_type": "execute_result"
    }
   ],
   "source": [
    "rfm_df['Monetary'].describe()"
   ]
  },
  {
   "cell_type": "code",
   "execution_count": 26,
   "metadata": {},
   "outputs": [],
   "source": [
    "# Save DataFrame to a CSV file in a specific location\n",
    "rfm_df.to_csv('D:\\Files\\Data Gen 8\\Predictive Analytics\\My projects\\output.csv', index=False)"
   ]
  },
  {
   "cell_type": "code",
   "execution_count": 27,
   "metadata": {},
   "outputs": [
    {
     "data": {
      "image/png": "[encoded data removed]",
      "text/plain": [
       "<Figure size 2200x800 with 1 Axes>"
      ]
     },
     "metadata": {},
     "output_type": "display_data"
    }
   ],
   "source": [
    "# Calculate the count of customers for each RFM segment\n",
    "rfm_segment_counts = rfm_df['RFM_Segment'].value_counts()\n",
    "\n",
    "# Sort the segments based on the count\n",
    "sorted_segments = rfm_segment_counts.sort_values(ascending=False).index\n",
    "\n",
    "plt.figure(figsize=(22, 8))\n",
    "sns.countplot(x='RFM_Segment', data=rfm_df, order=sorted_segments, palette='viridis')\n",
    "plt.title('RFM Distribution')\n",
    "plt.xlabel('RFM Score')\n",
    "plt.ylabel('Total Customers')\n",
    "plt.show()\n"
   ]
  },
  {
   "cell_type": "code",
   "execution_count": 86,
   "metadata": {},
   "outputs": [
    {
     "data": {
      "text/html": [
       "<div>\n",
       "<style scoped>\n",
       "    .dataframe tbody tr th:only-of-type {\n",
       "        vertical-align: middle;\n",
       "    }\n",
       "\n",
       "    .dataframe tbody tr th {\n",
       "        vertical-align: top;\n",
       "    }\n",
       "\n",
       "    .dataframe thead th {\n",
       "        text-align: right;\n",
       "    }\n",
       "</style>\n",
       "<table border=\"1\" class=\"dataframe\">\n",
       "  <thead>\n",
       "    <tr style=\"text-align: right;\">\n",
       "      <th></th>\n",
       "      <th>Recency</th>\n",
       "      <th>Frequency</th>\n",
       "      <th>Monetary</th>\n",
       "    </tr>\n",
       "  </thead>\n",
       "  <tbody>\n",
       "    <tr>\n",
       "      <th>count</th>\n",
       "      <td>583642.000000</td>\n",
       "      <td>583642.000000</td>\n",
       "      <td>5.836420e+05</td>\n",
       "    </tr>\n",
       "    <tr>\n",
       "      <th>mean</th>\n",
       "      <td>220.832868</td>\n",
       "      <td>1.796607</td>\n",
       "      <td>5.477354e+05</td>\n",
       "    </tr>\n",
       "    <tr>\n",
       "      <th>std</th>\n",
       "      <td>135.498886</td>\n",
       "      <td>2.269033</td>\n",
       "      <td>8.803920e+05</td>\n",
       "    </tr>\n",
       "    <tr>\n",
       "      <th>min</th>\n",
       "      <td>1.000000</td>\n",
       "      <td>1.000000</td>\n",
       "      <td>7.148000e+03</td>\n",
       "    </tr>\n",
       "    <tr>\n",
       "      <th>25%</th>\n",
       "      <td>102.000000</td>\n",
       "      <td>1.000000</td>\n",
       "      <td>2.012890e+05</td>\n",
       "    </tr>\n",
       "    <tr>\n",
       "      <th>50%</th>\n",
       "      <td>218.000000</td>\n",
       "      <td>1.000001</td>\n",
       "      <td>3.118160e+05</td>\n",
       "    </tr>\n",
       "    <tr>\n",
       "      <th>75%</th>\n",
       "      <td>337.000000</td>\n",
       "      <td>2.000000</td>\n",
       "      <td>5.674813e+05</td>\n",
       "    </tr>\n",
       "    <tr>\n",
       "      <th>max</th>\n",
       "      <td>466.000000</td>\n",
       "      <td>238.000000</td>\n",
       "      <td>1.337745e+08</td>\n",
       "    </tr>\n",
       "  </tbody>\n",
       "</table>\n",
       "</div>"
      ],
      "text/plain": [
       "             Recency      Frequency      Monetary\n",
       "count  583642.000000  583642.000000  5.836420e+05\n",
       "mean      220.832868       1.796607  5.477354e+05\n",
       "std       135.498886       2.269033  8.803920e+05\n",
       "min         1.000000       1.000000  7.148000e+03\n",
       "25%       102.000000       1.000000  2.012890e+05\n",
       "50%       218.000000       1.000001  3.118160e+05\n",
       "75%       337.000000       2.000000  5.674813e+05\n",
       "max       466.000000     238.000000  1.337745e+08"
      ]
     },
     "execution_count": 86,
     "metadata": {},
     "output_type": "execute_result"
    }
   ],
   "source": [
    "# Select columns for clustering\n",
    "columns_for_clustering = [\"Recency\", \"Frequency\", \"Monetary\"]\n",
    "\n",
    "# Create new DataFrame with clustering variables\n",
    "df_features = rfm_df[columns_for_clustering]\n",
    "\n",
    "# Print a summary of descriptive statistics\n",
    "df_features.describe()\n"
   ]
  },
  {
   "cell_type": "code",
   "execution_count": 91,
   "metadata": {},
   "outputs": [
    {
     "name": "stderr",
     "output_type": "stream",
     "text": [
      "C:\\Users\\Admin\\AppData\\Roaming\\Python\\Python311\\site-packages\\seaborn\\_oldcore.py:1119: FutureWarning: use_inf_as_na option is deprecated and will be removed in a future version. Convert inf values to NaN before operating instead.\n",
      "  with pd.option_context('mode.use_inf_as_na', True):\n",
      "C:\\Users\\Admin\\AppData\\Roaming\\Python\\Python311\\site-packages\\seaborn\\_oldcore.py:1119: FutureWarning: use_inf_as_na option is deprecated and will be removed in a future version. Convert inf values to NaN before operating instead.\n",
      "  with pd.option_context('mode.use_inf_as_na', True):\n",
      "C:\\Users\\Admin\\AppData\\Roaming\\Python\\Python311\\site-packages\\seaborn\\_oldcore.py:1119: FutureWarning: use_inf_as_na option is deprecated and will be removed in a future version. Convert inf values to NaN before operating instead.\n",
      "  with pd.option_context('mode.use_inf_as_na', True):\n"
     ]
    },
    {
     "data": {
      "image/png": "[encoded data removed]",
      "text/plain": [
       "<Figure size 900x300 with 3 Axes>"
      ]
     },
     "metadata": {},
     "output_type": "display_data"
    }
   ],
   "source": [
    "# Plot the distributions of the selected variables\n",
    "g = sns.FacetGrid(\n",
    "    df_features.melt(),  # Reformat the DataFrame for plotting purposes\n",
    "    col=\"variable\",  # Split on the 'variable' column created by reformating\n",
    "    sharey=False,  # Turn off shared y-axis\n",
    "    sharex=False,  # Turn off shared x-axis\n",
    ")\n",
    "# Apply a histogram to the facet grid\n",
    "g.map(sns.histplot, \"value\")\n",
    "# Adjust the top of the plots to make room for the title\n",
    "g.fig.subplots_adjust(top=0.8)\n",
    "# Create a title\n",
    "g.fig.suptitle(\"Unprocessed Variable Distributions\", fontsize=16)\n",
    "plt.show()"
   ]
  },
  {
   "cell_type": "code",
   "execution_count": 57,
   "metadata": {},
   "outputs": [
    {
     "name": "stdout",
     "output_type": "stream",
     "text": [
      "Defaulting to user installation because normal site-packages is not writeable\n",
      "Collecting scikit-learn\n",
      "  Downloading scikit_learn-1.4.1.post1-cp311-cp311-win_amd64.whl.metadata (11 kB)\n",
      "Requirement already satisfied: numpy<2.0,>=1.19.5 in c:\\users\\admin\\appdata\\roaming\\python\\python311\\site-packages (from scikit-learn) (1.25.2)\n",
      "Requirement already satisfied: scipy>=1.6.0 in c:\\users\\admin\\appdata\\roaming\\python\\python311\\site-packages (from scikit-learn) (1.11.4)\n",
      "Collecting joblib>=1.2.0 (from scikit-learn)\n",
      "  Using cached joblib-1.3.2-py3-none-any.whl.metadata (5.4 kB)\n",
      "Collecting threadpoolctl>=2.0.0 (from scikit-learn)\n",
      "  Downloading threadpoolctl-3.3.0-py3-none-any.whl.metadata (13 kB)\n",
      "Downloading scikit_learn-1.4.1.post1-cp311-cp311-win_amd64.whl (10.6 MB)\n",
      "   ---------------------------------------- 0.0/10.6 MB ? eta -:--:--\n",
      "   ---------------------------------------- 0.1/10.6 MB 2.0 MB/s eta 0:00:06\n",
      "   ---------------------------------------- 0.1/10.6 MB 1.8 MB/s eta 0:00:06\n",
      "    --------------------------------------- 0.2/10.6 MB 2.1 MB/s eta 0:00:06\n",
      "   - -------------------------------------- 0.5/10.6 MB 3.3 MB/s eta 0:00:04\n",
      "   --- ------------------------------------ 0.8/10.6 MB 3.7 MB/s eta 0:00:03\n",
      "   ---- ----------------------------------- 1.1/10.6 MB 4.1 MB/s eta 0:00:03\n",
      "   ----- ---------------------------------- 1.4/10.6 MB 4.6 MB/s eta 0:00:03\n",
      "   ------ --------------------------------- 1.7/10.6 MB 4.8 MB/s eta 0:00:02\n",
      "   -------- ------------------------------- 2.1/10.6 MB 5.4 MB/s eta 0:00:02\n",
      "   --------- ------------------------------ 2.4/10.6 MB 5.5 MB/s eta 0:00:02\n",
      "   ---------- ----------------------------- 2.8/10.6 MB 5.8 MB/s eta 0:00:02\n",
      "   ----------- ---------------------------- 3.0/10.6 MB 5.8 MB/s eta 0:00:02\n",
      "   ------------ --------------------------- 3.4/10.6 MB 5.9 MB/s eta 0:00:02\n",
      "   -------------- ------------------------- 3.8/10.6 MB 6.1 MB/s eta 0:00:02\n",
      "   --------------- ------------------------ 4.2/10.6 MB 6.3 MB/s eta 0:00:02\n",
      "   ---------------- ----------------------- 4.5/10.6 MB 6.3 MB/s eta 0:00:01\n",
      "   ----------------- ---------------------- 4.8/10.6 MB 6.5 MB/s eta 0:00:01\n",
      "   ------------------- -------------------- 5.1/10.6 MB 6.5 MB/s eta 0:00:01\n",
      "   -------------------- ------------------- 5.5/10.6 MB 6.5 MB/s eta 0:00:01\n",
      "   ---------------------- ----------------- 5.9/10.6 MB 6.7 MB/s eta 0:00:01\n",
      "   ----------------------- ---------------- 6.2/10.6 MB 6.7 MB/s eta 0:00:01\n",
      "   ------------------------ --------------- 6.5/10.6 MB 6.7 MB/s eta 0:00:01\n",
      "   ------------------------- -------------- 6.9/10.6 MB 6.8 MB/s eta 0:00:01\n",
      "   -------------------------- ------------- 7.2/10.6 MB 6.7 MB/s eta 0:00:01\n",
      "   ---------------------------- ----------- 7.5/10.6 MB 6.9 MB/s eta 0:00:01\n",
      "   ----------------------------- ---------- 7.9/10.6 MB 6.8 MB/s eta 0:00:01\n",
      "   ------------------------------ --------- 8.2/10.6 MB 6.8 MB/s eta 0:00:01\n",
      "   -------------------------------- ------- 8.6/10.6 MB 6.9 MB/s eta 0:00:01\n",
      "   --------------------------------- ------ 8.9/10.6 MB 6.9 MB/s eta 0:00:01\n",
      "   ----------------------------------- ---- 9.3/10.6 MB 6.9 MB/s eta 0:00:01\n",
      "   ------------------------------------ --- 9.7/10.6 MB 7.0 MB/s eta 0:00:01\n",
      "   ------------------------------------- -- 10.1/10.6 MB 6.9 MB/s eta 0:00:01\n",
      "   -------------------------------------- - 10.4/10.6 MB 7.4 MB/s eta 0:00:01\n",
      "   ---------------------------------------  10.6/10.6 MB 7.4 MB/s eta 0:00:01\n",
      "   ---------------------------------------- 10.6/10.6 MB 7.3 MB/s eta 0:00:00\n",
      "Using cached joblib-1.3.2-py3-none-any.whl (302 kB)\n",
      "Downloading threadpoolctl-3.3.0-py3-none-any.whl (17 kB)\n",
      "Installing collected packages: threadpoolctl, joblib, scikit-learn\n",
      "  Attempting uninstall: joblib\n",
      "    Found existing installation: joblib 1.1.1\n",
      "    Uninstalling joblib-1.1.1:\n",
      "      Successfully uninstalled joblib-1.1.1\n",
      "Successfully installed joblib-1.3.2 scikit-learn-1.4.1.post1 threadpoolctl-3.3.0\n",
      "Note: you may need to restart the kernel to use updated packages.\n"
     ]
    },
    {
     "name": "stderr",
     "output_type": "stream",
     "text": [
      "ERROR: pip's dependency resolver does not currently take into account all the packages that are installed. This behaviour is the source of the following dependency conflicts.\n",
      "pandas-profiling 3.2.0 requires joblib~=1.1.0, but you have joblib 1.3.2 which is incompatible.\n",
      "pandas-profiling 3.2.0 requires visions[type_image_path]==0.7.4, but you have visions 0.7.5 which is incompatible.\n",
      "\n",
      "[notice] A new release of pip is available: 23.3.2 -> 24.0\n",
      "[notice] To update, run: python.exe -m pip install --upgrade pip\n"
     ]
    }
   ],
   "source": [
    "pip install scikit-learn\n"
   ]
  },
  {
   "cell_type": "code",
   "execution_count": 58,
   "metadata": {},
   "outputs": [],
   "source": [
    "from sklearn.preprocessing import StandardScaler\n",
    "from sklearn.cluster import KMeans"
   ]
  },
  {
   "cell_type": "code",
   "execution_count": 59,
   "metadata": {},
   "outputs": [
    {
     "name": "stderr",
     "output_type": "stream",
     "text": [
      "C:\\Users\\Admin\\AppData\\Roaming\\Python\\Python311\\site-packages\\seaborn\\_oldcore.py:1119: FutureWarning: use_inf_as_na option is deprecated and will be removed in a future version. Convert inf values to NaN before operating instead.\n",
      "  with pd.option_context('mode.use_inf_as_na', True):\n",
      "C:\\Users\\Admin\\AppData\\Roaming\\Python\\Python311\\site-packages\\seaborn\\_oldcore.py:1119: FutureWarning: use_inf_as_na option is deprecated and will be removed in a future version. Convert inf values to NaN before operating instead.\n",
      "  with pd.option_context('mode.use_inf_as_na', True):\n",
      "C:\\Users\\Admin\\AppData\\Roaming\\Python\\Python311\\site-packages\\seaborn\\_oldcore.py:1119: FutureWarning: use_inf_as_na option is deprecated and will be removed in a future version. Convert inf values to NaN before operating instead.\n",
      "  with pd.option_context('mode.use_inf_as_na', True):\n"
     ]
    },
    {
     "data": {
      "image/png": "[encoded data removed]",
      "text/plain": [
       "<Figure size 900x300 with 3 Axes>"
      ]
     },
     "metadata": {},
     "output_type": "display_data"
    }
   ],
   "source": [
    "# Perform a log transformation of the data to unskew the data\n",
    "df_log = np.log(df_features)\n",
    "\n",
    "# Initialize a standard scaler and fit it\n",
    "scaler = StandardScaler()\n",
    "scaler.fit(df_log)\n",
    "\n",
    "# Scale and center the data\n",
    "df_normalized = scaler.transform(df_log)\n",
    "\n",
    "# Create a pandas DataFrame of the processed data\n",
    "df_processed = pd.DataFrame(\n",
    "    data=df_normalized, index=df_features.index, columns=df_features.columns\n",
    ")\n",
    "\n",
    "# Plot the distributions of the selected variables\n",
    "g = sns.FacetGrid(df_processed.melt(), col=\"variable\")\n",
    "g.map(sns.histplot, \"value\")\n",
    "g.fig.subplots_adjust(top=0.8)\n",
    "g.fig.suptitle(\"Preprocessed Variable Distributions\", fontsize=16)\n",
    "plt.show()"
   ]
  },
  {
   "cell_type": "code",
   "execution_count": 97,
   "metadata": {},
   "outputs": [
    {
     "data": {
      "text/html": [
       "<div>\n",
       "<style scoped>\n",
       "    .dataframe tbody tr th:only-of-type {\n",
       "        vertical-align: middle;\n",
       "    }\n",
       "\n",
       "    .dataframe tbody tr th {\n",
       "        vertical-align: top;\n",
       "    }\n",
       "\n",
       "    .dataframe thead th {\n",
       "        text-align: right;\n",
       "    }\n",
       "</style>\n",
       "<table border=\"1\" class=\"dataframe\">\n",
       "  <thead>\n",
       "    <tr style=\"text-align: right;\">\n",
       "      <th></th>\n",
       "      <th>Recency</th>\n",
       "      <th>Frequency</th>\n",
       "      <th>Monetary</th>\n",
       "    </tr>\n",
       "  </thead>\n",
       "  <tbody>\n",
       "    <tr>\n",
       "      <th>count</th>\n",
       "      <td>5.836420e+05</td>\n",
       "      <td>5.836420e+05</td>\n",
       "      <td>5.836420e+05</td>\n",
       "    </tr>\n",
       "    <tr>\n",
       "      <th>mean</th>\n",
       "      <td>1.504243e-15</td>\n",
       "      <td>-2.514235e-16</td>\n",
       "      <td>-5.558270e-15</td>\n",
       "    </tr>\n",
       "    <tr>\n",
       "      <th>std</th>\n",
       "      <td>1.000001e+00</td>\n",
       "      <td>1.000001e+00</td>\n",
       "      <td>1.000001e+00</td>\n",
       "    </tr>\n",
       "    <tr>\n",
       "      <th>min</th>\n",
       "      <td>-4.632518e+00</td>\n",
       "      <td>-5.580494e-01</td>\n",
       "      <td>-4.512586e+00</td>\n",
       "    </tr>\n",
       "    <tr>\n",
       "      <th>25%</th>\n",
       "      <td>-3.787146e-01</td>\n",
       "      <td>-5.580488e-01</td>\n",
       "      <td>-6.420266e-01</td>\n",
       "    </tr>\n",
       "    <tr>\n",
       "      <th>50%</th>\n",
       "      <td>3.198534e-01</td>\n",
       "      <td>-5.580482e-01</td>\n",
       "      <td>-1.345132e-01</td>\n",
       "    </tr>\n",
       "    <tr>\n",
       "      <th>75%</th>\n",
       "      <td>7.204839e-01</td>\n",
       "      <td>6.194753e-01</td>\n",
       "      <td>5.598344e-01</td>\n",
       "    </tr>\n",
       "    <tr>\n",
       "      <th>max</th>\n",
       "      <td>1.018576e+00</td>\n",
       "      <td>8.738291e+00</td>\n",
       "      <td>6.894253e+00</td>\n",
       "    </tr>\n",
       "  </tbody>\n",
       "</table>\n",
       "</div>"
      ],
      "text/plain": [
       "            Recency     Frequency      Monetary\n",
       "count  5.836420e+05  5.836420e+05  5.836420e+05\n",
       "mean   1.504243e-15 -2.514235e-16 -5.558270e-15\n",
       "std    1.000001e+00  1.000001e+00  1.000001e+00\n",
       "min   -4.632518e+00 -5.580494e-01 -4.512586e+00\n",
       "25%   -3.787146e-01 -5.580488e-01 -6.420266e-01\n",
       "50%    3.198534e-01 -5.580482e-01 -1.345132e-01\n",
       "75%    7.204839e-01  6.194753e-01  5.598344e-01\n",
       "max    1.018576e+00  8.738291e+00  6.894253e+00"
      ]
     },
     "execution_count": 97,
     "metadata": {},
     "output_type": "execute_result"
    }
   ],
   "source": [
    "df_processed.describe()"
   ]
  },
  {
   "cell_type": "code",
   "execution_count": 60,
   "metadata": {},
   "outputs": [
    {
     "name": "stderr",
     "output_type": "stream",
     "text": [
      "C:\\Users\\Admin\\AppData\\Roaming\\Python\\Python311\\site-packages\\seaborn\\_oldcore.py:1765: FutureWarning: unique with argument that is not not a Series, Index, ExtensionArray, or np.ndarray is deprecated and will raise in a future version.\n",
      "  order = pd.unique(vector)\n"
     ]
    },
    {
     "data": {
      "image/png": "[encoded data removed]",
      "text/plain": [
       "<Figure size 1000x400 with 1 Axes>"
      ]
     },
     "metadata": {},
     "output_type": "display_data"
    }
   ],
   "source": [
    "# Set the maximum number of clusters to plot\n",
    "max_clusters = 10\n",
    "\n",
    "# Initialize empty dictionary to store sum of squared errors\n",
    "sse = {}\n",
    "\n",
    "# Fit KMeans and calculate SSE for each k\n",
    "for k in range(1, max_clusters):\n",
    "    # Initialize KMeans with k clusters\n",
    "    kmeans = KMeans(n_clusters=k, random_state=1)\n",
    "    # Fit KMeans on the normalized dataset\n",
    "    kmeans.fit(df_processed)\n",
    "    # Assign sum of squared distances to k element of dictionary\n",
    "    sse[k] = kmeans.inertia_\n",
    "\n",
    "# Initialize a figure of set size\n",
    "plt.figure(figsize=(10, 4))\n",
    "\n",
    "# Create an elbow plot of SSE values for each key in the dictionary\n",
    "sns.pointplot(x=list(sse.keys()), y=list(sse.values()))\n",
    "\n",
    "# Add labels to the plot\n",
    "plt.title(\"Elbow Method Plot\", fontsize=16)  # Add a title to the plot\n",
    "plt.xlabel(\"Number of Clusters\")  # Add x-axis label\n",
    "plt.ylabel(\"SSE\")  # Add y-axis label\n",
    "\n",
    "# Show the plot\n",
    "plt.show()"
   ]
  },
  {
   "cell_type": "code",
   "execution_count": 81,
   "metadata": {},
   "outputs": [
    {
     "data": {
      "text/html": [
       "<div>\n",
       "<style scoped>\n",
       "    .dataframe tbody tr th:only-of-type {\n",
       "        vertical-align: middle;\n",
       "    }\n",
       "\n",
       "    .dataframe tbody tr th {\n",
       "        vertical-align: top;\n",
       "    }\n",
       "\n",
       "    .dataframe thead th {\n",
       "        text-align: right;\n",
       "    }\n",
       "</style>\n",
       "<table border=\"1\" class=\"dataframe\">\n",
       "  <thead>\n",
       "    <tr style=\"text-align: right;\">\n",
       "      <th></th>\n",
       "      <th>CustomerID</th>\n",
       "      <th>Recency</th>\n",
       "      <th>Frequency</th>\n",
       "      <th>Monetary</th>\n",
       "      <th>R</th>\n",
       "      <th>F</th>\n",
       "      <th>M</th>\n",
       "      <th>RFM_Segment</th>\n",
       "      <th>Cluster</th>\n",
       "    </tr>\n",
       "  </thead>\n",
       "  <tbody>\n",
       "    <tr>\n",
       "      <th>0</th>\n",
       "      <td>0</td>\n",
       "      <td>382</td>\n",
       "      <td>1.000001</td>\n",
       "      <td>4.116630e+05</td>\n",
       "      <td>1</td>\n",
       "      <td>2</td>\n",
       "      <td>3</td>\n",
       "      <td>123</td>\n",
       "      <td>0</td>\n",
       "    </tr>\n",
       "    <tr>\n",
       "      <th>1</th>\n",
       "      <td>1</td>\n",
       "      <td>309</td>\n",
       "      <td>1.000000</td>\n",
       "      <td>1.055030e+05</td>\n",
       "      <td>2</td>\n",
       "      <td>1</td>\n",
       "      <td>1</td>\n",
       "      <td>211</td>\n",
       "      <td>0</td>\n",
       "    </tr>\n",
       "    <tr>\n",
       "      <th>2</th>\n",
       "      <td>8</td>\n",
       "      <td>183</td>\n",
       "      <td>1.000000</td>\n",
       "      <td>1.098496e+06</td>\n",
       "      <td>3</td>\n",
       "      <td>1</td>\n",
       "      <td>4</td>\n",
       "      <td>314</td>\n",
       "      <td>1</td>\n",
       "    </tr>\n",
       "    <tr>\n",
       "      <th>3</th>\n",
       "      <td>16</td>\n",
       "      <td>116</td>\n",
       "      <td>1.000001</td>\n",
       "      <td>2.865580e+05</td>\n",
       "      <td>3</td>\n",
       "      <td>3</td>\n",
       "      <td>2</td>\n",
       "      <td>332</td>\n",
       "      <td>0</td>\n",
       "    </tr>\n",
       "    <tr>\n",
       "      <th>4</th>\n",
       "      <td>18</td>\n",
       "      <td>346</td>\n",
       "      <td>1.000000</td>\n",
       "      <td>2.874920e+05</td>\n",
       "      <td>1</td>\n",
       "      <td>1</td>\n",
       "      <td>2</td>\n",
       "      <td>112</td>\n",
       "      <td>0</td>\n",
       "    </tr>\n",
       "    <tr>\n",
       "      <th>...</th>\n",
       "      <td>...</td>\n",
       "      <td>...</td>\n",
       "      <td>...</td>\n",
       "      <td>...</td>\n",
       "      <td>...</td>\n",
       "      <td>...</td>\n",
       "      <td>...</td>\n",
       "      <td>...</td>\n",
       "      <td>...</td>\n",
       "    </tr>\n",
       "    <tr>\n",
       "      <th>583637</th>\n",
       "      <td>2174065</td>\n",
       "      <td>255</td>\n",
       "      <td>1.000001</td>\n",
       "      <td>1.389430e+05</td>\n",
       "      <td>2</td>\n",
       "      <td>2</td>\n",
       "      <td>1</td>\n",
       "      <td>221</td>\n",
       "      <td>0</td>\n",
       "    </tr>\n",
       "    <tr>\n",
       "      <th>583638</th>\n",
       "      <td>2174066</td>\n",
       "      <td>7</td>\n",
       "      <td>1.000001</td>\n",
       "      <td>1.436850e+05</td>\n",
       "      <td>4</td>\n",
       "      <td>2</td>\n",
       "      <td>1</td>\n",
       "      <td>421</td>\n",
       "      <td>0</td>\n",
       "    </tr>\n",
       "    <tr>\n",
       "      <th>583639</th>\n",
       "      <td>2174072</td>\n",
       "      <td>37</td>\n",
       "      <td>3.000000</td>\n",
       "      <td>9.536180e+05</td>\n",
       "      <td>4</td>\n",
       "      <td>4</td>\n",
       "      <td>4</td>\n",
       "      <td>444</td>\n",
       "      <td>2</td>\n",
       "    </tr>\n",
       "    <tr>\n",
       "      <th>583640</th>\n",
       "      <td>2174075</td>\n",
       "      <td>31</td>\n",
       "      <td>1.000001</td>\n",
       "      <td>2.624890e+05</td>\n",
       "      <td>4</td>\n",
       "      <td>3</td>\n",
       "      <td>2</td>\n",
       "      <td>432</td>\n",
       "      <td>0</td>\n",
       "    </tr>\n",
       "    <tr>\n",
       "      <th>583641</th>\n",
       "      <td>2174083</td>\n",
       "      <td>451</td>\n",
       "      <td>1.000001</td>\n",
       "      <td>1.852710e+05</td>\n",
       "      <td>1</td>\n",
       "      <td>2</td>\n",
       "      <td>1</td>\n",
       "      <td>121</td>\n",
       "      <td>0</td>\n",
       "    </tr>\n",
       "  </tbody>\n",
       "</table>\n",
       "<p>583642 rows × 9 columns</p>\n",
       "</div>"
      ],
      "text/plain": [
       "        CustomerID  Recency  Frequency      Monetary  R  F  M RFM_Segment  \\\n",
       "0                0      382   1.000001  4.116630e+05  1  2  3         123   \n",
       "1                1      309   1.000000  1.055030e+05  2  1  1         211   \n",
       "2                8      183   1.000000  1.098496e+06  3  1  4         314   \n",
       "3               16      116   1.000001  2.865580e+05  3  3  2         332   \n",
       "4               18      346   1.000000  2.874920e+05  1  1  2         112   \n",
       "...            ...      ...        ...           ... .. .. ..         ...   \n",
       "583637     2174065      255   1.000001  1.389430e+05  2  2  1         221   \n",
       "583638     2174066        7   1.000001  1.436850e+05  4  2  1         421   \n",
       "583639     2174072       37   3.000000  9.536180e+05  4  4  4         444   \n",
       "583640     2174075       31   1.000001  2.624890e+05  4  3  2         432   \n",
       "583641     2174083      451   1.000001  1.852710e+05  1  2  1         121   \n",
       "\n",
       "        Cluster  \n",
       "0             0  \n",
       "1             0  \n",
       "2             1  \n",
       "3             0  \n",
       "4             0  \n",
       "...         ...  \n",
       "583637        0  \n",
       "583638        0  \n",
       "583639        2  \n",
       "583640        0  \n",
       "583641        0  \n",
       "\n",
       "[583642 rows x 9 columns]"
      ]
     },
     "execution_count": 81,
     "metadata": {},
     "output_type": "execute_result"
    }
   ],
   "source": [
    "# Choose number of clusters\n",
    "k = 3\n",
    "\n",
    "# Initialize KMeans\n",
    "kmeans = KMeans(n_clusters=k, random_state=1) \n",
    "\n",
    "# Fit k-means clustering on the normalized data set\n",
    "kmeans.fit(df_processed)\n",
    "\n",
    "# Extract cluster labels\n",
    "cluster_labels = kmeans.labels_\n",
    "\n",
    "# Create a new DataFrame by adding a new cluster column to the original data\n",
    "df_clustered = rfm_df.assign(Cluster=cluster_labels)\n",
    "\n",
    "# Preview the clustered DataFrame\n",
    "df_clustered\n"
   ]
  },
  {
   "cell_type": "code",
   "execution_count": 82,
   "metadata": {},
   "outputs": [
    {
     "data": {
      "text/html": [
       "<div>\n",
       "<style scoped>\n",
       "    .dataframe tbody tr th:only-of-type {\n",
       "        vertical-align: middle;\n",
       "    }\n",
       "\n",
       "    .dataframe tbody tr th {\n",
       "        vertical-align: top;\n",
       "    }\n",
       "\n",
       "    .dataframe thead th {\n",
       "        text-align: right;\n",
       "    }\n",
       "</style>\n",
       "<table border=\"1\" class=\"dataframe\">\n",
       "  <thead>\n",
       "    <tr style=\"text-align: right;\">\n",
       "      <th></th>\n",
       "      <th>Recency</th>\n",
       "      <th>Frequency</th>\n",
       "      <th>Monetary</th>\n",
       "    </tr>\n",
       "    <tr>\n",
       "      <th>Cluster</th>\n",
       "      <th></th>\n",
       "      <th></th>\n",
       "      <th></th>\n",
       "    </tr>\n",
       "  </thead>\n",
       "  <tbody>\n",
       "    <tr>\n",
       "      <th>0</th>\n",
       "      <td>253.46</td>\n",
       "      <td>1.01</td>\n",
       "      <td>259026.39</td>\n",
       "    </tr>\n",
       "    <tr>\n",
       "      <th>1</th>\n",
       "      <td>199.91</td>\n",
       "      <td>2.39</td>\n",
       "      <td>829769.85</td>\n",
       "    </tr>\n",
       "    <tr>\n",
       "      <th>2</th>\n",
       "      <td>42.09</td>\n",
       "      <td>5.89</td>\n",
       "      <td>1924197.45</td>\n",
       "    </tr>\n",
       "  </tbody>\n",
       "</table>\n",
       "</div>"
      ],
      "text/plain": [
       "         Recency  Frequency    Monetary\n",
       "Cluster                                \n",
       "0         253.46       1.01   259026.39\n",
       "1         199.91       2.39   829769.85\n",
       "2          42.09       5.89  1924197.45"
      ]
     },
     "execution_count": 82,
     "metadata": {},
     "output_type": "execute_result"
    }
   ],
   "source": [
    "df_clustered.groupby('Cluster').agg(\n",
    "    {\n",
    "        'Recency':'mean',\n",
    "        'Frequency':'mean',\n",
    "        'Monetary':'mean'\n",
    "    }\n",
    ").round(2)\n"
   ]
  },
  {
   "cell_type": "code",
   "execution_count": 84,
   "metadata": {},
   "outputs": [
    {
     "data": {
      "text/html": [
       "<div>\n",
       "<style scoped>\n",
       "    .dataframe tbody tr th:only-of-type {\n",
       "        vertical-align: middle;\n",
       "    }\n",
       "\n",
       "    .dataframe tbody tr th {\n",
       "        vertical-align: top;\n",
       "    }\n",
       "\n",
       "    .dataframe thead th {\n",
       "        text-align: right;\n",
       "    }\n",
       "</style>\n",
       "<table border=\"1\" class=\"dataframe\">\n",
       "  <thead>\n",
       "    <tr style=\"text-align: right;\">\n",
       "      <th></th>\n",
       "      <th>Cluster</th>\n",
       "      <th>size</th>\n",
       "    </tr>\n",
       "  </thead>\n",
       "  <tbody>\n",
       "    <tr>\n",
       "      <th>0</th>\n",
       "      <td>0</td>\n",
       "      <td>400836</td>\n",
       "    </tr>\n",
       "    <tr>\n",
       "      <th>1</th>\n",
       "      <td>1</td>\n",
       "      <td>124175</td>\n",
       "    </tr>\n",
       "    <tr>\n",
       "      <th>2</th>\n",
       "      <td>2</td>\n",
       "      <td>58631</td>\n",
       "    </tr>\n",
       "  </tbody>\n",
       "</table>\n",
       "</div>"
      ],
      "text/plain": [
       "   Cluster    size\n",
       "0        0  400836\n",
       "1        1  124175\n",
       "2        2   58631"
      ]
     },
     "execution_count": 84,
     "metadata": {},
     "output_type": "execute_result"
    }
   ],
   "source": [
    "# Group the data by cluster and calculate the total number of rows per group\n",
    "df_sizes = df_clustered.groupby([\"Cluster\"], as_index=False).size()\n",
    "\n",
    "# Inspect the row counts\n",
    "df_sizes"
   ]
  },
  {
   "cell_type": "code",
   "execution_count": 85,
   "metadata": {},
   "outputs": [
    {
     "name": "stderr",
     "output_type": "stream",
     "text": [
      "C:\\Users\\Admin\\AppData\\Roaming\\Python\\Python311\\site-packages\\seaborn\\_oldcore.py:1119: FutureWarning: use_inf_as_na option is deprecated and will be removed in a future version. Convert inf values to NaN before operating instead.\n",
      "  with pd.option_context('mode.use_inf_as_na', True):\n",
      "C:\\Users\\Admin\\AppData\\Roaming\\Python\\Python311\\site-packages\\seaborn\\_oldcore.py:1119: FutureWarning: use_inf_as_na option is deprecated and will be removed in a future version. Convert inf values to NaN before operating instead.\n",
      "  with pd.option_context('mode.use_inf_as_na', True):\n"
     ]
    },
    {
     "data": {
      "image/png": "[encoded data removed]",
      "text/plain": [
       "<Figure size 1000x600 with 1 Axes>"
      ]
     },
     "metadata": {},
     "output_type": "display_data"
    }
   ],
   "source": [
    "# Assign cluster labels to processed DataFrame\n",
    "df_processed_clustered = df_processed.assign(Cluster=cluster_labels)\n",
    "\n",
    "# Melt the normalized DataFrame and reset the index\n",
    "df_processed_melt = pd.melt(\n",
    "    df_processed_clustered.reset_index(),\n",
    "    # Assign the cluster labelss as the ID\n",
    "    id_vars=['Cluster'],\n",
    "    # Assign clustering variables as values\n",
    "    value_vars=df_features.columns,\n",
    "    # Name the variable and value\n",
    "    var_name=\"Metric\",\n",
    "    value_name=\"Value\",\n",
    ")\n",
    "\n",
    "# Change the figure size\n",
    "plt.figure(figsize=(10, 6))\n",
    "\n",
    "# Add label and titles to the plot\n",
    "plt.title('Snake Plot of Normalized Variables', fontsize=16)\n",
    "plt.xlabel('Metric')\n",
    "plt.ylabel('Average Normalized Value')\n",
    "\n",
    "# Plot a line for each value of the cluster variable\n",
    "sns.lineplot(data=df_processed_melt, x='Metric', y='Value', hue='Cluster')\n",
    "plt.show()"
   ]
  },
  {
   "cell_type": "code",
   "execution_count": 98,
   "metadata": {},
   "outputs": [
    {
     "data": {
      "image/png": "[encoded data removed]",
      "text/plain": [
       "<Figure size 800x400 with 2 Axes>"
      ]
     },
     "metadata": {},
     "output_type": "display_data"
    }
   ],
   "source": [
    "# Calculate average RFM values for each cluster\n",
    "cluster_avg = df_clustered.groupby([\"Cluster\"])[columns_for_clustering].mean()\n",
    "\n",
    "# Calculate average RFM values for the total customer population\n",
    "population_avg = rfm_df[columns_for_clustering].mean()\n",
    "\n",
    "# Calculate relative importance of cluster's attribute value compared to population\n",
    "relative_imp = cluster_avg / population_avg - 1\n",
    "\n",
    "# Change the figure size\n",
    "plt.figure(figsize=(8, 4))\n",
    "\n",
    "# Add the plot title\n",
    "plt.title(\"Relative importance of attributes\", fontsize=16)\n",
    "\n",
    "# Plot the heatmap\n",
    "sns.heatmap(data=relative_imp, annot=True, fmt=\".2f\", cmap=sns.diverging_palette(20, 220, as_cmap=True))\n",
    "plt.show()"
   ]
  }
 ],
 "metadata": {
  "kernelspec": {
   "display_name": "Python 3",
   "language": "python",
   "name": "python3"
  },
  "language_info": {
   "codemirror_mode": {
    "name": "ipython",
    "version": 3
   },
   "file_extension": ".py",
   "mimetype": "text/x-python",
   "name": "python",
   "nbconvert_exporter": "python",
   "pygments_lexer": "ipython3",
   "version": "3.11.4"
  }
 },
 "nbformat": 4,
 "nbformat_minor": 2
}
